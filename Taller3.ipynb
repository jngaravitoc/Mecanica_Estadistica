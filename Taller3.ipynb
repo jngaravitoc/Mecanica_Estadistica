{
 "metadata": {
  "name": "Taller3"
 },
 "nbformat": 3,
 "nbformat_minor": 0,
 "worksheets": [
  {
   "cells": [
    {
     "cell_type": "markdown",
     "metadata": {},
     "source": [
      "## Juan Nicol\u00e1s Garavito Camargo.\n",
      "# Punto 3, Reichl 5.2\n",
      "\n",
      "La matriz de transici\u00f3n Q es:\n",
      "\n"
     ]
    },
    {
     "cell_type": "code",
     "collapsed": false,
     "input": [
      "%pylab inline\n",
      "from sympy import *\n"
     ],
     "language": "python",
     "metadata": {},
     "outputs": [
      {
       "output_type": "stream",
       "stream": "stdout",
       "text": [
        "\n",
        "Welcome to pylab, a matplotlib-based Python environment [backend: module://IPython.zmq.pylab.backend_inline].\n",
        "For more information, type 'help(pylab)'.\n"
       ]
      }
     ],
     "prompt_number": 1
    },
    {
     "cell_type": "markdown",
     "metadata": {},
     "source": [
      "# a)"
     ]
    },
    {
     "cell_type": "code",
     "collapsed": false,
     "input": [
      "Q = array([[0, 0.5, 0.5],[0, 0, 1],[0.75, 0.25, 0]])\n",
      "Q"
     ],
     "language": "python",
     "metadata": {},
     "outputs": [
      {
       "output_type": "pyout",
       "prompt_number": 30,
       "text": [
        "array([[ 0.  ,  0.5 ,  0.5 ],\n",
        "       [ 0.  ,  0.  ,  1.  ],\n",
        "       [ 0.75,  0.25,  0.  ]])"
       ]
      }
     ],
     "prompt_number": 30
    },
    {
     "cell_type": "markdown",
     "metadata": {},
     "source": [
      "Cuyos autovalores y autovectores ser\u00e1n:"
     ]
    },
    {
     "cell_type": "code",
     "collapsed": false,
     "input": [
      "evalsQ, evecsQ = linalg.eig(Q)\n",
      "print \"Los valores propios de Q son:\"\n",
      "print evalsQ"
     ],
     "language": "python",
     "metadata": {},
     "outputs": [
      {
       "output_type": "stream",
       "stream": "stdout",
       "text": [
        "Los valores propios de Q son:\n",
        "[-0.5+0.35355339j -0.5-0.35355339j  1.0+0.j        ]\n"
       ]
      }
     ],
     "prompt_number": 32
    },
    {
     "cell_type": "code",
     "collapsed": false,
     "input": [
      "print \"Los vectores propios de Q son:\"\n",
      "print evecsQ"
     ],
     "language": "python",
     "metadata": {},
     "outputs": [
      {
       "output_type": "stream",
       "stream": "stdout",
       "text": [
        "Los vectores propios de Q son:\n",
        "[[-0.13074409-0.36980013j -0.13074409+0.36980013j -0.57735027+0.j        ]\n",
        " [ 0.78446454+0.j          0.78446454+0.j         -0.57735027+0.j        ]\n",
        " [-0.39223227+0.2773501j  -0.39223227-0.2773501j  -0.57735027+0.j        ]]\n"
       ]
      }
     ],
     "prompt_number": 33
    },
    {
     "cell_type": "markdown",
     "metadata": {},
     "source": [
      "La matriz transupesta de Q es:"
     ]
    },
    {
     "cell_type": "code",
     "collapsed": false,
     "input": [
      "Q_t = Q.transpose()\n",
      "Q_t"
     ],
     "language": "python",
     "metadata": {},
     "outputs": [
      {
       "output_type": "pyout",
       "prompt_number": 34,
       "text": [
        "array([[ 0.  ,  0.  ,  0.75],\n",
        "       [ 0.5 ,  0.  ,  0.25],\n",
        "       [ 0.5 ,  1.  ,  0.  ]])"
       ]
      }
     ],
     "prompt_number": 34
    },
    {
     "cell_type": "markdown",
     "metadata": {},
     "source": [
      "y sus valores y vectores propios ser\u00e1n:"
     ]
    },
    {
     "cell_type": "code",
     "collapsed": false,
     "input": [
      "evals, evecs = linalg.eig(Q_t)\n",
      "print \"Los valores propios de Q transpuesta son:\"\n",
      "print evals \n",
      "print \"Los vectores propios de Q transpuesta son:\"\n",
      "print evecs"
     ],
     "language": "python",
     "metadata": {},
     "outputs": [
      {
       "output_type": "stream",
       "stream": "stdout",
       "text": [
        "Los valores propios de Q transpuesta son:\n",
        "[ 1.0+0.j         -0.5+0.35355339j -0.5-0.35355339j]\n",
        "Los vectores propios de Q transpuesta son:\n",
        "[[ 0.53665631+0.j          0.70710678+0.j          0.70710678+0.j        ]\n",
        " [ 0.44721360+0.j         -0.23570226-0.33333333j -0.23570226+0.33333333j]\n",
        " [ 0.71554175+0.j         -0.47140452+0.33333333j -0.47140452-0.33333333j]]\n"
       ]
      }
     ],
     "prompt_number": 35
    },
    {
     "cell_type": "code",
     "collapsed": false,
     "input": [],
     "language": "python",
     "metadata": {},
     "outputs": [
      {
       "output_type": "pyout",
       "prompt_number": 36,
       "text": [
        "array([-0.07016464-0.19845558j, -0.09245003+0.26148818j, -0.40824829+0.j        ])"
       ]
      }
     ],
     "prompt_number": 36
    },
    {
     "cell_type": "markdown",
     "metadata": {},
     "source": [
      "# b)"
     ]
    },
    {
     "cell_type": "code",
     "collapsed": false,
     "input": [
      "n1 = evecsQ[0]*evecs[0]\n",
      "n2 = evecsQ[1]*evecs[1]\n",
      "n3 = evecsQ[2]*evecs[2]\n",
      "print \"n1 = \", n1[0] + n1[1] + n1[2]\n",
      "print \"n2 = \", n2[0] + n2[1] + n2[2]\n",
      "print \"n3 = \", n3[0] + n3[1] + n3[2]"
     ],
     "language": "python",
     "metadata": {},
     "outputs": [
      {
       "output_type": "stream",
       "stream": "stdout",
       "text": [
        "n1 =  (-0.570862964713+0.0630326048415j)\n",
        "n2 =  (0.302005905802-0.453938269914j)\n",
        "n3 =  (0.26885705891+0.390905665073j)\n"
       ]
      }
     ],
     "prompt_number": 44
    },
    {
     "cell_type": "code",
     "collapsed": false,
     "input": [],
     "language": "python",
     "metadata": {},
     "outputs": []
    }
   ],
   "metadata": {}
  }
 ]
}