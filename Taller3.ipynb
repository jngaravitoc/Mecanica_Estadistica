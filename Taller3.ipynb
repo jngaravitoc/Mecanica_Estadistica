{
 "metadata": {
  "name": "",
  "signature": "sha256:d358c83523323dd3ada44117a8ec2fdcb9fbcba82134d8fb4ec6c6fd68694acd"
 },
 "nbformat": 3,
 "nbformat_minor": 0,
 "worksheets": [
  {
   "cells": [
    {
     "cell_type": "markdown",
     "metadata": {},
     "source": [
      "## Juan Nicol\u00e1s Garavito Camargo.\n",
      "# Punto 3, Reichl 5.2\n",
      "\n",
      "La matriz de transici\u00f3n Q es:\n",
      "\n"
     ]
    },
    {
     "cell_type": "code",
     "collapsed": false,
     "input": [
      "%pylab inline\n",
      "#from sympy import *\n",
      "import cmath\n"
     ],
     "language": "python",
     "metadata": {},
     "outputs": [
      {
       "output_type": "stream",
       "stream": "stdout",
       "text": [
        "Populating the interactive namespace from numpy and matplotlib\n"
       ]
      }
     ],
     "prompt_number": 2
    },
    {
     "cell_type": "markdown",
     "metadata": {},
     "source": [
      "# a)"
     ]
    },
    {
     "cell_type": "code",
     "collapsed": false,
     "input": [
      "Q = array([[0, 0.5, 0.5],[0, 0, 1],[0.75, 0.25, 0]])\n",
      "print \"esta es la matriz de transicion Q\"\n",
      "print Q"
     ],
     "language": "python",
     "metadata": {},
     "outputs": [
      {
       "output_type": "stream",
       "stream": "stdout",
       "text": [
        "esta es la matriz de transicion Q\n",
        "[[ 0.    0.5   0.5 ]\n",
        " [ 0.    0.    1.  ]\n",
        " [ 0.75  0.25  0.  ]]\n"
       ]
      }
     ],
     "prompt_number": 80
    },
    {
     "cell_type": "markdown",
     "metadata": {},
     "source": [
      "Cuyos autovalores y autovectores ser\u00e1n:"
     ]
    },
    {
     "cell_type": "code",
     "collapsed": false,
     "input": [
      "evalsQ, evecsQ = linalg.eig(Q)\n",
      "print \"Los valores propios de Q son:\"\n",
      "print evalsQ"
     ],
     "language": "python",
     "metadata": {},
     "outputs": [
      {
       "output_type": "stream",
       "stream": "stdout",
       "text": [
        "Los valores propios de Q son:\n",
        "[-0.5+0.35355339j -0.5-0.35355339j  1.0+0.j        ]\n"
       ]
      }
     ],
     "prompt_number": 5
    },
    {
     "cell_type": "code",
     "collapsed": false,
     "input": [
      "print \"Los vectores propios de Q son:\"\n",
      "print evecsQ"
     ],
     "language": "python",
     "metadata": {},
     "outputs": [
      {
       "output_type": "stream",
       "stream": "stdout",
       "text": [
        "Los vectores propios de Q son:\n",
        "[[-0.13074409-0.36980013j -0.13074409+0.36980013j -0.57735027+0.j        ]\n",
        " [ 0.78446454+0.j          0.78446454-0.j         -0.57735027+0.j        ]\n",
        " [-0.39223227+0.2773501j  -0.39223227-0.2773501j  -0.57735027+0.j        ]]\n"
       ]
      }
     ],
     "prompt_number": 6
    },
    {
     "cell_type": "markdown",
     "metadata": {},
     "source": [
      "La matriz transupesta de Q es:"
     ]
    },
    {
     "cell_type": "code",
     "collapsed": false,
     "input": [
      "Q_t = Q.transpose()\n",
      "Q_t"
     ],
     "language": "python",
     "metadata": {},
     "outputs": [
      {
       "metadata": {},
       "output_type": "pyout",
       "prompt_number": 7,
       "text": [
        "array([[ 0.  ,  0.  ,  0.75],\n",
        "       [ 0.5 ,  0.  ,  0.25],\n",
        "       [ 0.5 ,  1.  ,  0.  ]])"
       ]
      }
     ],
     "prompt_number": 7
    },
    {
     "cell_type": "markdown",
     "metadata": {},
     "source": [
      "y sus valores y vectores propios ser\u00e1n:"
     ]
    },
    {
     "cell_type": "code",
     "collapsed": false,
     "input": [
      "evals, evecs = linalg.eig(Q_t)\n",
      "print \"Los valores propios de Q transpuesta son:\"\n",
      "print evals \n",
      "print \"Los vectores propios de Q transpuesta son:\"\n",
      "print evecs"
     ],
     "language": "python",
     "metadata": {},
     "outputs": [
      {
       "output_type": "stream",
       "stream": "stdout",
       "text": [
        "Los valores propios de Q transpuesta son:\n",
        "[ 1.0+0.j         -0.5+0.35355339j -0.5-0.35355339j]\n",
        "Los vectores propios de Q transpuesta son:\n",
        "[[ 0.53665631+0.j          0.70710678+0.j          0.70710678-0.j        ]\n",
        " [ 0.44721360+0.j         -0.23570226-0.33333333j -0.23570226+0.33333333j]\n",
        " [ 0.71554175+0.j         -0.47140452+0.33333333j -0.47140452-0.33333333j]]\n"
       ]
      }
     ],
     "prompt_number": 8
    },
    {
     "cell_type": "markdown",
     "metadata": {},
     "source": [
      "# b)"
     ]
    },
    {
     "cell_type": "code",
     "collapsed": false,
     "input": [
      "n1 = evecsQ[0]*evecs[0]\n",
      "n2 = evecsQ[1]*evecs[1]\n",
      "n3 = evecsQ[2]*evecs[2]\n",
      "print \"n1 = \", n1[0] + n1[1] + n1[2]\n",
      "print \"n2 = \", n2[0] + n2[1] + n2[2]\n",
      "print \"n3 = \", n3[0] + n3[1] + n3[2]"
     ],
     "language": "python",
     "metadata": {},
     "outputs": [
      {
       "output_type": "stream",
       "stream": "stdout",
       "text": [
        "n1 =  (-0.570862964713+0.0630326048415j)\n",
        "n2 =  (0.302005905802-0.453938269914j)\n",
        "n3 =  (0.26885705891+0.390905665073j)\n"
       ]
      }
     ],
     "prompt_number": 9
    },
    {
     "cell_type": "code",
     "collapsed": false,
     "input": [
      "P_11 = evecsQ[0][0]*evecs[0] \n",
      "P_12 = evecsQ[0][1]*evecs[0] \n",
      "P_13 = evecsQ[0][2]*evecs[0] \n",
      "\n",
      "print P_11\n",
      "print P_12\n",
      "print P_13\n",
      "\n",
      "\n",
      "#P_2 = evecsQ[1]*evecs "
     ],
     "language": "python",
     "metadata": {},
     "outputs": [
      {
       "output_type": "stream",
       "stream": "stdout",
       "text": [
        "[-0.07016464-0.19845558j -0.09245003-0.26148818j -0.09245003-0.26148818j]\n",
        "[-0.07016464+0.19845558j -0.09245003+0.26148818j -0.09245003+0.26148818j]\n",
        "[-0.30983867+0.j -0.40824829+0.j -0.40824829+0.j]\n"
       ]
      }
     ],
     "prompt_number": 19
    },
    {
     "cell_type": "code",
     "collapsed": false,
     "input": [
      "P_21 = evecsQ[1][0]*evecs[1] \n",
      "P_22 = evecsQ[1][1]*evecs[1] \n",
      "P_23 = evecsQ[1][2]*evecs[1] \n",
      "\n",
      "print P_21\n",
      "print P_22\n",
      "print P_23\n"
     ],
     "language": "python",
     "metadata": {},
     "outputs": [
      {
       "output_type": "stream",
       "stream": "stdout",
       "text": [
        "[ 0.35082321+0.j         -0.18490007-0.26148818j -0.18490007+0.26148818j]\n",
        "[ 0.35082321+0.j         -0.18490007-0.26148818j -0.18490007+0.26148818j]\n",
        "[-0.25819889+0.j          0.13608276+0.19245009j  0.13608276-0.19245009j]\n"
       ]
      }
     ],
     "prompt_number": 20
    },
    {
     "cell_type": "code",
     "collapsed": false,
     "input": [
      "P_31 = evecsQ[2][0]*evecs[2] \n",
      "P_32 = evecsQ[2][1]*evecs[2] \n",
      "P_33 = evecsQ[2][2]*evecs[2] \n",
      "\n",
      "print P_31\n",
      "print P_32\n",
      "print P_33"
     ],
     "language": "python",
     "metadata": {},
     "outputs": [
      {
       "output_type": "stream",
       "stream": "stdout",
       "text": [
        "[-0.28065857 +1.98455575e-01j  0.09245003 -2.61488180e-01j\n",
        "  0.27735010 -8.32667268e-17j]\n",
        "[-0.28065857 -1.98455575e-01j  0.27735010 +8.32667268e-17j\n",
        "  0.09245003 +2.61488180e-01j]\n",
        "[-0.41311822+0.j          0.27216553-0.19245009j  0.27216553+0.19245009j]\n"
       ]
      }
     ],
     "prompt_number": 22
    },
    {
     "cell_type": "markdown",
     "metadata": {},
     "source": [
      "# C)"
     ]
    },
    {
     "cell_type": "code",
     "collapsed": false,
     "input": [
      "((-0.5+0.35j)**2*(0.07+.2j) + ((-0.5-0.35j)**2 *0.5) + (-0.28+0.06j))*(-0.570862964713+0.0630326048415j) "
     ],
     "language": "python",
     "metadata": {},
     "outputs": [
      {
       "metadata": {},
       "output_type": "pyout",
       "prompt_number": 9,
       "text": [
        "(0.06351806188661875-0.14337961213212697j)"
       ]
      }
     ],
     "prompt_number": 9
    },
    {
     "cell_type": "markdown",
     "metadata": {},
     "source": [
      "# Punto 5 ecuacion de Fokker-Planck>\n",
      "\n",
      "#b)\n",
      "\n",
      "$ f(p) = a + frac{b}{1+frac{k}{n}^2}} $ "
     ]
    },
    {
     "cell_type": "code",
     "collapsed": false,
     "input": [
      "def f(a, b, k, x):\n",
      "    return a + b/(1 + (k/x**2))\n",
      "def g(gamma, x):\n",
      "    return gamma*x"
     ],
     "language": "python",
     "metadata": {},
     "outputs": [],
     "prompt_number": 23
    },
    {
     "cell_type": "code",
     "collapsed": false,
     "input": [
      "x = linspace(-20, 20, 100)\n",
      "f(1, 1, 1, x)\n",
      "plot(x, f(0, 10, 10, x))\n",
      "plot(x, g(1, x))\n",
      "#ylim([0,12])"
     ],
     "language": "python",
     "metadata": {},
     "outputs": [
      {
       "metadata": {},
       "output_type": "pyout",
       "prompt_number": 78,
       "text": [
        "[<matplotlib.lines.Line2D at 0x7f076b024d50>]"
       ]
      },
      {
       "metadata": {},
       "output_type": "display_data",
       "png": "[encoded data removed]",
       "text": [
        "<matplotlib.figure.Figure at 0x7f076b50b110>"
       ]
      }
     ],
     "prompt_number": 78
    },
    {
     "cell_type": "markdown",
     "metadata": {},
     "source": [
      "Parametros:  a = 1, b= 10, k = 10, gamma = 1"
     ]
    },
    {
     "cell_type": "code",
     "collapsed": false,
     "input": [],
     "language": "python",
     "metadata": {},
     "outputs": []
    }
   ],
   "metadata": {}
  }
 ]
}