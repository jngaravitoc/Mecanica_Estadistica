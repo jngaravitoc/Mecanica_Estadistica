{
 "metadata": {
  "name": "",
  "signature": "sha256:1f65c0751bf87d5228dbe93ff567b051c79a9fce8c61ff73e9b2f64e01872f18"
 },
 "nbformat": 3,
 "nbformat_minor": 0,
 "worksheets": [
  {
   "cells": [
    {
     "cell_type": "markdown",
     "metadata": {},
     "source": [
      "# 1. Simulaciones Montecarlo\n",
      "\n",
      "Simule un proceso donde un jugador apuesta a la ruleta que tiene 36 n\u00fameros rojos y negros y un 0 verde.\n",
      "\n",
      "## a)  \n",
      "Sus fondos iniciales son 100, apuesta de a 1, y en cada ronda gana 36 con probabilidad 1/37, y pierde 1 con\n",
      "probabilidad 36/37. Despu\u00e9s de 100 rondas, \n",
      "\n",
      "- cual es la distribuci\u00f3n emp\u00edrica de fondos n? \n",
      "- Cu\u00e1l es su media? \n",
      "- Cu\u00e1l es el tiempo promedio para que la mitad de los jugadores (si fueran muchos) llegaran a 0?\n"
     ]
    },
    {
     "cell_type": "code",
     "collapsed": false,
     "input": [
      "%pylab inline"
     ],
     "language": "python",
     "metadata": {},
     "outputs": [
      {
       "output_type": "stream",
       "stream": "stdout",
       "text": [
        "Populating the interactive namespace from numpy and matplotlib\n"
       ]
      }
     ],
     "prompt_number": 1
    },
    {
     "cell_type": "code",
     "collapsed": false,
     "input": [
      "#N = Number of plays\n",
      "#M = Money\n",
      "#NP = Number of players\n",
      "\n",
      "def ruleta(M):\n",
      "    Money = []\n",
      "    t = 0\n",
      "    while M > 0:\n",
      "        t+=1\n",
      "        X = np.random.randint(1, 38)\n",
      "        Money.append(M)\n",
      "        if X == 1:\n",
      "            M+=36\n",
      "        else:\n",
      "            M-=1\n",
      "    return t, Money"
     ],
     "language": "python",
     "metadata": {},
     "outputs": [],
     "prompt_number": 2
    },
    {
     "cell_type": "code",
     "collapsed": false,
     "input": [
      "t, Money = ruleta(100)"
     ],
     "language": "python",
     "metadata": {},
     "outputs": [],
     "prompt_number": 7
    },
    {
     "cell_type": "code",
     "collapsed": false,
     "input": [
      "plot(Money[0:100])\n",
      "xlabel(r\"$\\rm{Tiempo}$\", fontsize=30)\n",
      "ylabel(r\"$\\rm{Fondos\\ (n)}$\", fontsize=30)"
     ],
     "language": "python",
     "metadata": {},
     "outputs": [
      {
       "metadata": {},
       "output_type": "pyout",
       "prompt_number": 8,
       "text": [
        "<matplotlib.text.Text at 0x7f95a5e25390>"
       ]
      },
      {
       "metadata": {},
       "output_type": "display_data",
       "png": "[encoded data removed]",
       "text": [
        "<matplotlib.figure.Figure at 0x7f95a5d32f90>"
       ]
      }
     ],
     "prompt_number": 8
    },
    {
     "cell_type": "markdown",
     "metadata": {},
     "source": [
      "La media de los fondos ser\u00e1: "
     ]
    },
    {
     "cell_type": "code",
     "collapsed": false,
     "input": [
      "print \"<n> = \", mean(Money)"
     ],
     "language": "python",
     "metadata": {},
     "outputs": [
      {
       "output_type": "stream",
       "stream": "stdout",
       "text": [
        "<n> =  267.024134791\n"
       ]
      }
     ],
     "prompt_number": 9
    },
    {
     "cell_type": "code",
     "collapsed": false,
     "input": [
      "X = []\n",
      "for j in range(10):\n",
      "    player = []\n",
      "    time = []\n",
      "    for i in range(100):\n",
      "        t, Money = ruleta(100)\n",
      "        player.append(i)\n",
      "        time.append(t)\n",
      "    t_half = sort(time)\n",
      "    X.append(mean(t_half[0:50]))"
     ],
     "language": "python",
     "metadata": {},
     "outputs": [],
     "prompt_number": 11
    },
    {
     "cell_type": "code",
     "collapsed": false,
     "input": [
      "plot(X)"
     ],
     "language": "python",
     "metadata": {},
     "outputs": [
      {
       "metadata": {},
       "output_type": "pyout",
       "prompt_number": 12,
       "text": [
        "[<matplotlib.lines.Line2D at 0x7f95a5d9fbd0>]"
       ]
      },
      {
       "metadata": {},
       "output_type": "display_data",
       "png": "[encoded data removed]",
       "text": [
        "<matplotlib.figure.Figure at 0x7f95a5d32d10>"
       ]
      }
     ],
     "prompt_number": 12
    },
    {
     "cell_type": "markdown",
     "metadata": {},
     "source": [
      "## b) \n",
      "Como cambia lo anterior si cada ronda apuesta a rojo o negro? La ganancia en este caso es 1 con probabilidad 18/37 y la perdida 1 con probabilidad 19/37.\n",
      "\n",
      "    "
     ]
    },
    {
     "cell_type": "code",
     "collapsed": false,
     "input": [
      "def ruleta_RB(M):\n",
      "    Money = []\n",
      "    t = 0\n",
      "    while M > 0:\n",
      "        t+=1\n",
      "        X = np.random.randint(1, 38)\n",
      "        Money.append(M)\n",
      "        if X < 19:\n",
      "            M+=1\n",
      "        else:\n",
      "            M-=1\n",
      "    return t, Money"
     ],
     "language": "python",
     "metadata": {},
     "outputs": [],
     "prompt_number": 5
    },
    {
     "cell_type": "code",
     "collapsed": false,
     "input": [
      "t, Money = ruleta_RB(100)"
     ],
     "language": "python",
     "metadata": {},
     "outputs": [],
     "prompt_number": 9
    },
    {
     "cell_type": "code",
     "collapsed": true,
     "input": [
      "plot(Money)\n",
      "plot(Money[:100])"
     ],
     "language": "python",
     "metadata": {},
     "outputs": [
      {
       "metadata": {},
       "output_type": "pyout",
       "prompt_number": 12,
       "text": [
        "[<matplotlib.lines.Line2D at 0x7fd8fad261d0>]"
       ]
      },
      {
       "metadata": {},
       "output_type": "display_data",
       "png": "[encoded data removed]",
       "text": [
        "<matplotlib.figure.Figure at 0x7fd8fad26090>"
       ]
      }
     ],
     "prompt_number": 12
    },
    {
     "cell_type": "code",
     "collapsed": false,
     "input": [
      "print \"<n> = \", mean(Money)\n",
      "print \"<n> = \", mean(Money[:100])"
     ],
     "language": "python",
     "metadata": {},
     "outputs": [
      {
       "output_type": "stream",
       "stream": "stdout",
       "text": [
        "<n> =  58.7593180016\n",
        "<n> =  106.84\n"
       ]
      }
     ],
     "prompt_number": 13
    },
    {
     "cell_type": "code",
     "collapsed": false,
     "input": [
      "Y = []\n",
      "for j in range(3):\n",
      "    player = []\n",
      "    time = []\n",
      "    for i in range(100):\n",
      "        t, Money = ruleta_RB(100)\n",
      "        player.append(i)\n",
      "        time.append(t)\n",
      "    t_half = sort(time)\n",
      "    Y.append(mean(t_half[0:50]))"
     ],
     "language": "python",
     "metadata": {},
     "outputs": [],
     "prompt_number": 20
    },
    {
     "cell_type": "code",
     "collapsed": false,
     "input": [
      "plot(Y)"
     ],
     "language": "python",
     "metadata": {},
     "outputs": [
      {
       "metadata": {},
       "output_type": "pyout",
       "prompt_number": 21,
       "text": [
        "[<matplotlib.lines.Line2D at 0x7fd8faab3690>]"
       ]
      },
      {
       "metadata": {},
       "output_type": "display_data",
       "png": "[encoded data removed]",
       "text": [
        "<matplotlib.figure.Figure at 0x7fd8fabaced0>"
       ]
      }
     ],
     "prompt_number": 21
    },
    {
     "cell_type": "markdown",
     "metadata": {},
     "source": [
      "## c)\n",
      "Como cambia el caso anterior si ahora apuesta con la siguiente estrategia: apuesta 1, y si gana, apuesta de nuevo 1, si pierde, va doblando la apuesta hasta que gane y despu\u00e9s de ganar apuesta de nuevo 1."
     ]
    },
    {
     "cell_type": "code",
     "collapsed": false,
     "input": [
      "def ruleta_RB(M):\n",
      "    Money = []\n",
      "    t = 0\n",
      "    while M > 0:\n",
      "        t+=1\n",
      "        X = np.random.randint(1, 38)\n",
      "        Money.append(M)\n",
      "        if X < 19:\n",
      "            M+=1\n",
      "        else:\n",
      "            M-=1\n",
      "    return t, Money"
     ],
     "language": "python",
     "metadata": {},
     "outputs": []
    }
   ],
   "metadata": {}
  }
 ]
}