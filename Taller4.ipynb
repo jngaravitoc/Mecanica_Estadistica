{
 "metadata": {
  "name": "Taller4",
  "signature": "sha256:8f5cf478a2eed9c69adedbf11d2b7c1656ed0a5caff5ec9edc0a33b9285f0e08"
 },
 "nbformat": 3,
 "nbformat_minor": 0,
 "worksheets": [
  {
   "cells": [
    {
     "cell_type": "markdown",
     "metadata": {},
     "source": [
      "# 1. Simulaciones Montecarlo\n",
      "\n",
      "Simule un proceso donde un jugador apuesta a la ruleta que tiene 36 n\u00fameros rojos y negros y un 0 verde.\n",
      "\n",
      "## a)  \n",
      "Sus fondos iniciales son 100, apuesta de a 1, y en cada ronda gana 36 con probabilidad 1/37, y pierde 1 con\n",
      "probabilidad 36/37. Despu\u00e9s de 100 rondas, \n",
      "\n",
      "- cual es la distribuci\u00f3n emp\u00edrica de fondos n? \n",
      "- Cu\u00e1l es su media? \n",
      "- Cu\u00e1l es el tiempo promedio para que la mitad de los jugadores (si fueran muchos) llegaran a 0?\n"
     ]
    },
    {
     "cell_type": "code",
     "collapsed": false,
     "input": [
      "%pylab inline"
     ],
     "language": "python",
     "metadata": {},
     "outputs": [
      {
       "output_type": "stream",
       "stream": "stdout",
       "text": [
        "\n",
        "Welcome to pylab, a matplotlib-based Python environment [backend: module://IPython.zmq.pylab.backend_inline].\n",
        "For more information, type 'help(pylab)'.\n"
       ]
      }
     ],
     "prompt_number": 4
    },
    {
     "cell_type": "code",
     "collapsed": false,
     "input": [
      "#N = Number of plays\n",
      "#M = Money\n",
      "#NP = Number of players\n",
      "\n",
      "def ruleta(M, NP):\n",
      "    for i in range(NP):\n",
      "        Money = []\n",
      "        t = 0\n",
      "        while M > 0:\n",
      "            t +=1\n",
      "            X = np.random.randint(1, 38)\n",
      "            Money.append(M)\n",
      "            if X == 1:\n",
      "                M+=36\n",
      "            else:\n",
      "                M-=1\n",
      "        print t, M\n",
      "        for i in range(len(Money)):\n",
      "            print Money[i]"
     ],
     "language": "python",
     "metadata": {},
     "outputs": [],
     "prompt_number": 71
    },
    {
     "cell_type": "code",
     "collapsed": false,
     "input": [
      "#ruleta(100, 1)"
     ],
     "language": "python",
     "metadata": {},
     "outputs": [],
     "prompt_number": 74
    },
    {
     "cell_type": "code",
     "collapsed": false,
     "input": [
      "x = np.zeros((10,10))\n",
      "x = insert(x, 11, 2)\n",
      "x[1]"
     ],
     "language": "python",
     "metadata": {},
     "outputs": [
      {
       "output_type": "pyout",
       "prompt_number": 96,
       "text": [
        "0.0"
       ]
      }
     ],
     "prompt_number": 96
    },
    {
     "cell_type": "code",
     "collapsed": false,
     "input": [
      "plot(Money[0:100])\n",
      "xlabel(r\"$\\rm{Tiempo}$\", fontsize=30)\n",
      "ylabel(r\"$\\rm{Fondos\\ (n)}$\", fontsize=30)"
     ],
     "language": "python",
     "metadata": {},
     "outputs": [
      {
       "output_type": "pyout",
       "prompt_number": 43,
       "text": [
        "<matplotlib.text.Text at 0x52e69d0>"
       ]
      },
      {
       "output_type": "display_data",
       "png": "[encoded data removed]"
      }
     ],
     "prompt_number": 43
    },
    {
     "cell_type": "markdown",
     "metadata": {},
     "source": [
      "La media de los fondos ser\u00e1: "
     ]
    },
    {
     "cell_type": "code",
     "collapsed": false,
     "input": [
      "print \"<n> = \", mean(Money)"
     ],
     "language": "python",
     "metadata": {},
     "outputs": [
      {
       "output_type": "stream",
       "stream": "stdout",
       "text": [
        "<n> =  239.983084186\n"
       ]
      }
     ],
     "prompt_number": 44
    },
    {
     "cell_type": "code",
     "collapsed": false,
     "input": [
      "t, Money, M = ruleta(100, 2)"
     ],
     "language": "python",
     "metadata": {},
     "outputs": [],
     "prompt_number": 58
    },
    {
     "cell_type": "code",
     "collapsed": false,
     "input": [
      "print shape(Money)"
     ],
     "language": "python",
     "metadata": {},
     "outputs": [
      {
       "output_type": "stream",
       "stream": "stdout",
       "text": [
        "(914,)\n"
       ]
      }
     ],
     "prompt_number": 68
    },
    {
     "cell_type": "markdown",
     "metadata": {},
     "source": [
      "b) Como cambia lo anterior si cada ronda apuesta a rojo o negro? La ganancia en este caso es 1 con probabilidad 18/37 y la perdida 1 con probabilidad 19/37.\n",
      "\n",
      "    "
     ]
    },
    {
     "cell_type": "code",
     "collapsed": false,
     "input": [],
     "language": "python",
     "metadata": {},
     "outputs": []
    },
    {
     "cell_type": "markdown",
     "metadata": {},
     "source": [
      "c) Como cambia el caso anterior si ahora apuesta con la siguiente estrategia: apuesta 1, y si gana, apuesta de nuevo 1, si pierde, va doblando la apuesta hasta que gane y despu\u00e9s de ganar apuesta de nuevo 1."
     ]
    },
    {
     "cell_type": "code",
     "collapsed": false,
     "input": [],
     "language": "python",
     "metadata": {},
     "outputs": []
    }
   ],
   "metadata": {}
  }
 ]
}