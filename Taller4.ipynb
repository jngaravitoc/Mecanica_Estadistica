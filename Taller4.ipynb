{
 "metadata": {
  "name": "",
  "signature": "sha256:04bba0063cd9a2ba9a3020a60d4f83b92432e149127e6047efcd3531bbfb21c5"
 },
 "nbformat": 3,
 "nbformat_minor": 0,
 "worksheets": [
  {
   "cells": [
    {
     "cell_type": "markdown",
     "metadata": {},
     "source": [
      "# 1. Simulaciones Montecarlo\n",
      "\n",
      "Simule un proceso donde un jugador apuesta a la ruleta que tiene 36 n\u00fameros rojos y negros y un 0 verde.\n",
      "\n",
      "## a)  \n",
      "Sus fondos iniciales son 100, apuesta de a 1, y en cada ronda gana 36 con probabilidad 1/37, y pierde 1 con\n",
      "probabilidad 36/37. Despu\u00e9s de 100 rondas, \n",
      "\n",
      "- cual es la distribuci\u00f3n emp\u00edrica de fondos n? \n",
      "- Cu\u00e1l es su media? \n",
      "- Cu\u00e1l es el tiempo promedio para que la mitad de los jugadores (si fueran muchos) llegaran a 0?\n"
     ]
    },
    {
     "cell_type": "code",
     "collapsed": false,
     "input": [
      "%pylab inline"
     ],
     "language": "python",
     "metadata": {},
     "outputs": [
      {
       "output_type": "stream",
       "stream": "stdout",
       "text": [
        "Populating the interactive namespace from numpy and matplotlib\n"
       ]
      }
     ],
     "prompt_number": 45
    },
    {
     "cell_type": "code",
     "collapsed": false,
     "input": [
      "#N = Number of plays\n",
      "#M = Money\n",
      "#NP = Number of players\n",
      "\n",
      "def ruleta(M):\n",
      "    Money = []\n",
      "    t = 0\n",
      "    while M > 0:\n",
      "        t+=1\n",
      "        X = np.random.randint(1, 38)\n",
      "        Money.append(M)\n",
      "        if X == 1:\n",
      "            M+=36\n",
      "        else:\n",
      "            M-=1\n",
      "    return t, Money"
     ],
     "language": "python",
     "metadata": {},
     "outputs": [],
     "prompt_number": 2
    },
    {
     "cell_type": "markdown",
     "metadata": {},
     "source": [
      "## Ahora juego 200 veces "
     ]
    },
    {
     "cell_type": "code",
     "collapsed": false,
     "input": [
      "M = [] \n",
      "T = []\n",
      "for i in range(200):\n",
      "    t, Money = ruleta(100)\n",
      "    M.append(Money[99])\n",
      "    T.append(t)"
     ],
     "language": "python",
     "metadata": {},
     "outputs": [],
     "prompt_number": 13
    },
    {
     "cell_type": "code",
     "collapsed": false,
     "input": [
      "h = hist(M, bins=13)"
     ],
     "language": "python",
     "metadata": {},
     "outputs": [
      {
       "metadata": {},
       "output_type": "display_data",
       "png": "[encoded data removed]",
       "text": [
        "<matplotlib.figure.Figure at 0x7f24c87aebd0>"
       ]
      }
     ],
     "prompt_number": 14
    },
    {
     "cell_type": "markdown",
     "metadata": {},
     "source": [
      "La media de los fondos ser\u00e1: "
     ]
    },
    {
     "cell_type": "code",
     "collapsed": false,
     "input": [
      "print \"<n> = \", mean(M)"
     ],
     "language": "python",
     "metadata": {},
     "outputs": [
      {
       "output_type": "stream",
       "stream": "stdout",
       "text": [
        "<n> =  96.645\n"
       ]
      }
     ],
     "prompt_number": 15
    },
    {
     "cell_type": "markdown",
     "metadata": {},
     "source": [
      "Que es el resultado que se esperaba viendo el histograma."
     ]
    },
    {
     "cell_type": "markdown",
     "metadata": {},
     "source": [
      "El tiempo medio para que la mitad de los jugadores pierdan todo su dinero es:"
     ]
    },
    {
     "cell_type": "code",
     "collapsed": false,
     "input": [
      "mean_time = sort(T)\n",
      "print mean(mean_time[:100])"
     ],
     "language": "python",
     "metadata": {},
     "outputs": [
      {
       "output_type": "stream",
       "stream": "stdout",
       "text": [
        "262.43\n"
       ]
      }
     ],
     "prompt_number": 22
    },
    {
     "cell_type": "markdown",
     "metadata": {},
     "source": [
      "## b) \n",
      "Como cambia lo anterior si cada ronda apuesta a rojo o negro? La ganancia en este caso es 1 con probabilidad 18/37 y la perdida 1 con probabilidad 19/37.\n",
      "\n",
      "    "
     ]
    },
    {
     "cell_type": "code",
     "collapsed": false,
     "input": [
      "def ruleta_RB(M):\n",
      "    Money = []\n",
      "    t = 0\n",
      "    while M > 0:\n",
      "        t+=1\n",
      "        X = np.random.randint(1, 38)\n",
      "        Money.append(M)\n",
      "        if X < 19:\n",
      "            M+=1\n",
      "        else:\n",
      "            M-=1\n",
      "    return t, Money"
     ],
     "language": "python",
     "metadata": {},
     "outputs": [],
     "prompt_number": 23
    },
    {
     "cell_type": "code",
     "collapsed": false,
     "input": [
      "M = [] \n",
      "T = []\n",
      "for i in range(500):\n",
      "    t, Money = ruleta_RB(100)\n",
      "    M.append(Money[99])\n",
      "    T.append(t)"
     ],
     "language": "python",
     "metadata": {},
     "outputs": [],
     "prompt_number": 30
    },
    {
     "cell_type": "code",
     "collapsed": true,
     "input": [
      "h = hist(M, bins=15)"
     ],
     "language": "python",
     "metadata": {},
     "outputs": [
      {
       "metadata": {},
       "output_type": "display_data",
       "png": "[encoded data removed]",
       "text": [
        "<matplotlib.figure.Figure at 0x7f24c8887c50>"
       ]
      }
     ],
     "prompt_number": 32
    },
    {
     "cell_type": "markdown",
     "metadata": {},
     "source": [
      "La media de fondos promedio para 500 jugadores despues de 100 apuestas, fue de:"
     ]
    },
    {
     "cell_type": "code",
     "collapsed": false,
     "input": [
      "print \"<n> = \", mean(M)"
     ],
     "language": "python",
     "metadata": {},
     "outputs": [
      {
       "output_type": "stream",
       "stream": "stdout",
       "text": [
        "<n> =  97.844\n"
       ]
      }
     ],
     "prompt_number": 33
    },
    {
     "cell_type": "markdown",
     "metadata": {},
     "source": [
      "Esto quiero decir que despues de 100 apuestas el promedio de dinero de los jugadores no ha disminuido notoriamente.\n",
      "\n",
      "Y el tiempo medio para que la mitad de jugadores llegue a cero es:"
     ]
    },
    {
     "cell_type": "code",
     "collapsed": false,
     "input": [
      "mean_time = sort(T)\n",
      "print mean(mean_time[:100])"
     ],
     "language": "python",
     "metadata": {},
     "outputs": [
      {
       "output_type": "stream",
       "stream": "stdout",
       "text": [
        "1445.5\n"
       ]
      }
     ],
     "prompt_number": 34
    },
    {
     "cell_type": "markdown",
     "metadata": {},
     "source": [
      "## c)\n",
      "Como cambia el caso anterior si ahora apuesta con la siguiente estrategia: apuesta 1, y si gana, apuesta de nuevo 1, si pierde, va doblando la apuesta hasta que gane y despu\u00e9s de ganar apuesta de nuevo 1."
     ]
    },
    {
     "cell_type": "code",
     "collapsed": false,
     "input": [
      "def ruleta_c(M):\n",
      "    Money = []\n",
      "    t = 0\n",
      "    bet=1\n",
      "    while M > 0:\n",
      "        t+=1\n",
      "        X = np.random.randint(1, 38)\n",
      "        Money.append(M)\n",
      "        if X < 19:\n",
      "            M+=bet\n",
      "            bet=1\n",
      "        else:\n",
      "            M-=bet\n",
      "            bet=2*bet\n",
      "        #print bet\n",
      "    return t, Money"
     ],
     "language": "python",
     "metadata": {},
     "outputs": [],
     "prompt_number": 23
    },
    {
     "cell_type": "code",
     "collapsed": false,
     "input": [
      "M = [] \n",
      "T = []\n",
      "for i in range(100):\n",
      "    t, Money = ruleta_c(100)\n",
      "    if len(Money)<100:\n",
      "        for i in range(len(Money), 100):\n",
      "            M.append(0)\n",
      "    else:\n",
      "        M.append(Money[99])\n",
      "    \n",
      "    T.append(t)"
     ],
     "language": "python",
     "metadata": {},
     "outputs": [],
     "prompt_number": 27
    },
    {
     "cell_type": "code",
     "collapsed": false,
     "input": [
      "h = hist(M, bins=50)"
     ],
     "language": "python",
     "metadata": {},
     "outputs": [
      {
       "metadata": {},
       "output_type": "display_data",
       "png": "[encoded data removed]",
       "text": [
        "<matplotlib.figure.Figure at 0x7f3a998a1110>"
       ]
      }
     ],
     "prompt_number": 31
    },
    {
     "cell_type": "code",
     "collapsed": false,
     "input": [
      "mean_time = sort(T)\n",
      "print mean(mean_time[:100])"
     ],
     "language": "python",
     "metadata": {},
     "outputs": [
      {
       "output_type": "stream",
       "stream": "stdout",
       "text": [
        "796.25\n"
       ]
      }
     ],
     "prompt_number": 32
    },
    {
     "cell_type": "markdown",
     "metadata": {},
     "source": [
      "# 2 Algoritmo de Doob-Gillespie\n",
      "\n",
      "Simule usando Doob-Gillespie la fila en la caja de un almac\u00e9n de acuerdo a los siguientes par\u00e1metros: La probabilidad de\n",
      "que llegue un cliente es de 1/5 min entre 9 y 5\n",
      "pm y de 1/2min entre 5 y 7pm, el cajero atiende un cliente en promedio\n",
      "cada 2min, y si la fila es de m\u00e1s de 10 personas todos tienen la posibilidad de aburrirse e irse con tasa de 1/10 min.\n",
      "Cu\u00e1nto es la espera promedio? Cu\u00e1ntos clientes pierde el almac\u00e9n\n",
      "al mes por no tener m\u00e1s cajeros?"
     ]
    },
    {
     "cell_type": "code",
     "collapsed": false,
     "input": [
      "def gillespie():\n",
      "    time = []\n",
      "    time_llegada = []\n",
      "    h = 60*10 # Numero de minutos en 10 horas\n",
      "    N_i = [] # Clientes que llegan\n",
      "    N_r = [] # Clientes que salen aburridos\n",
      "    N_a = [] # clientes que salen atendidos\n",
      "    for t in range(h):\n",
      "        if t < 60*8:   # De 9am a 5pm\n",
      "            n = randint(1,6)  # probabilidad de que llegue un cliente\n",
      "            if n==1:\n",
      "                N_i.append(1)\n",
      "                time_llegada.append(t)\n",
      "        if ((t > 60*8) & (t<=h)):# De 5 pm en adelante\n",
      "            n = randint(1,3) # probabilidad de que llegue un cliente se de 1/2\n",
      "            if n==1:\n",
      "                N_i.append(1)\n",
      "                time_llegada.append(t)\n",
      "        if len(N_i) > 10:\n",
      "            for i in range(len(N_i)):\n",
      "                d = randint(1, 11)\n",
      "                if d == 1:\n",
      "                    N_i.remove(1)\n",
      "                    N_r.append(1)\n",
      "        if ((t%2 == 0) & (len(N_i)>=1)):\n",
      "            time.append(t)\n",
      "            N_i.remove(1)\n",
      "            N_a.append(1)\n",
      "    return len(N_i), len(N_r), len(N_a), time, time_llegada\n",
      "            "
     ],
     "language": "python",
     "metadata": {},
     "outputs": [],
     "prompt_number": 86
    },
    {
     "cell_type": "code",
     "collapsed": false,
     "input": [
      "gone = []\n",
      "t2 = []\n",
      "for i in range(1000):\n",
      "    Llegan, Se_van, satisfechos, time, time_llegada = gillespie()\n",
      "    gone.append(Se_van)\n",
      "    #print Llegan, Se_van, satisfechos\n",
      "    mean_time = []\n",
      "    for i in range(len(time)):\n",
      "        time_mean = time[i]-time_llegada[i]\n",
      "        mean_time.append(time_mean)\n",
      "    X = mean(mean_time)\n",
      "    t2.append(X)"
     ],
     "language": "python",
     "metadata": {},
     "outputs": [],
     "prompt_number": 102
    },
    {
     "cell_type": "code",
     "collapsed": false,
     "input": [
      "h = hist(gone, bins=20)"
     ],
     "language": "python",
     "metadata": {},
     "outputs": [
      {
       "metadata": {},
       "output_type": "display_data",
       "png": "[encoded data removed]",
       "text": [
        "<matplotlib.figure.Figure at 0x7f3a980422d0>"
       ]
      }
     ],
     "prompt_number": 103
    },
    {
     "cell_type": "code",
     "collapsed": false,
     "input": [
      "h = hist(t2, bins=20)"
     ],
     "language": "python",
     "metadata": {},
     "outputs": [
      {
       "metadata": {},
       "output_type": "display_data",
       "png": "[encoded data removed]",
       "text": [
        "<matplotlib.figure.Figure at 0x7f3a92a9afd0>"
       ]
      }
     ],
     "prompt_number": 104
    },
    {
     "cell_type": "code",
     "collapsed": false,
     "input": [],
     "language": "python",
     "metadata": {},
     "outputs": []
    }
   ],
   "metadata": {}
  }
 ]
}